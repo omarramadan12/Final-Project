{
 "cells": [
  {
   "cell_type": "code",
   "execution_count": 1,
   "metadata": {},
   "outputs": [
    {
     "name": "stdout",
     "output_type": "stream",
     "text": [
      "Index(['Suburb', 'Rooms', 'Type', 'Method', 'Seller', 'Distance',\n",
      "       'Two_bedroom_unit', 'Bathroom', 'Car', 'Landsize', 'BuildingArea',\n",
      "       'YearBuilt', 'CouncilArea', 'Lattitude', 'Longtitude', 'Regionname',\n",
      "       'Propertycount', 'Region', 'District', 'Month', 'Year'],\n",
      "      dtype='object')\n",
      "*************************\n",
      "              Suburb  Rooms Type Method Seller  Distance  Two_bedroom_unit  \\\n",
      "6892    moonee_ponds      3    h      s   brad       6.9               3.0   \n",
      "9881  sunshine_north      4    h      s  barry      13.3               4.0   \n",
      "\n",
      "      Bathroom  Car  Landsize  ...  YearBuilt  CouncilArea Lattitude  \\\n",
      "6892       1.0  1.0     274.0  ...        NaN       moonee  -37.7641   \n",
      "9881       1.0  2.0     615.0  ...     1955.0     brimbank  -37.7675   \n",
      "\n",
      "      Longtitude            Regionname Propertycount        Region District  \\\n",
      "6892    144.9112  western metropolitan        6232.0  metropolitan  western   \n",
      "9881    144.8414  western metropolitan        4217.0  metropolitan  western   \n",
      "\n",
      "     Month  Year  \n",
      "6892     7  2016  \n",
      "9881    12  2016  \n",
      "\n",
      "[2 rows x 21 columns]\n"
     ]
    }
   ],
   "source": [
    "from utils import process_new"
   ]
  },
  {
   "cell_type": "code",
   "execution_count": null,
   "metadata": {},
   "outputs": [],
   "source": []
  },
  {
   "cell_type": "code",
   "execution_count": 2,
   "metadata": {},
   "outputs": [],
   "source": [
    "import numpy as np\n",
    "import pandas as pd\n",
    "vv=['moonee_ponds ',3 ,'h','s','brad',6.9,3.0,1.0,1.0,274.0 ,2017.0 ,200.0 ,'moonee',-37.7641,144.9112,'western metropolitan',6232.0, 'metropolitan','western',7,2016 ]\n",
    "\n",
    "col=['Suburb', 'Rooms', 'Type', 'Method', 'Seller', 'Distance',\n",
    "       'Two_bedroom_unit', 'Bathroom', 'Car', 'Landsize', 'BuildingArea',\n",
    "       'YearBuilt', 'CouncilArea', 'Lattitude', 'Longtitude', 'Regionname',\n",
    "       'Propertycount', 'Region', 'District','Month', 'Year']"
   ]
  },
  {
   "cell_type": "code",
   "execution_count": 11,
   "metadata": {},
   "outputs": [
    {
     "data": {
      "text/html": [
       "<div>\n",
       "<style scoped>\n",
       "    .dataframe tbody tr th:only-of-type {\n",
       "        vertical-align: middle;\n",
       "    }\n",
       "\n",
       "    .dataframe tbody tr th {\n",
       "        vertical-align: top;\n",
       "    }\n",
       "\n",
       "    .dataframe thead th {\n",
       "        text-align: right;\n",
       "    }\n",
       "</style>\n",
       "<table border=\"1\" class=\"dataframe\">\n",
       "  <thead>\n",
       "    <tr style=\"text-align: right;\">\n",
       "      <th></th>\n",
       "      <th>Suburb</th>\n",
       "      <th>Rooms</th>\n",
       "      <th>Type</th>\n",
       "      <th>Method</th>\n",
       "      <th>Seller</th>\n",
       "      <th>Distance</th>\n",
       "      <th>Two_bedroom_unit</th>\n",
       "      <th>Bathroom</th>\n",
       "      <th>Car</th>\n",
       "      <th>Landsize</th>\n",
       "      <th>...</th>\n",
       "      <th>YearBuilt</th>\n",
       "      <th>CouncilArea</th>\n",
       "      <th>Lattitude</th>\n",
       "      <th>Longtitude</th>\n",
       "      <th>Regionname</th>\n",
       "      <th>Propertycount</th>\n",
       "      <th>Region</th>\n",
       "      <th>District</th>\n",
       "      <th>Month</th>\n",
       "      <th>Year</th>\n",
       "    </tr>\n",
       "  </thead>\n",
       "  <tbody>\n",
       "    <tr>\n",
       "      <th>0</th>\n",
       "      <td>moonee_ponds</td>\n",
       "      <td>3</td>\n",
       "      <td>h</td>\n",
       "      <td>s</td>\n",
       "      <td>brad</td>\n",
       "      <td>6.9</td>\n",
       "      <td>3.0</td>\n",
       "      <td>1.0</td>\n",
       "      <td>1.0</td>\n",
       "      <td>274.0</td>\n",
       "      <td>...</td>\n",
       "      <td>200.0</td>\n",
       "      <td>moonee</td>\n",
       "      <td>-37.7641</td>\n",
       "      <td>144.9112</td>\n",
       "      <td>western metropolitan</td>\n",
       "      <td>6232.0</td>\n",
       "      <td>metropolitan</td>\n",
       "      <td>western</td>\n",
       "      <td>7</td>\n",
       "      <td>2016</td>\n",
       "    </tr>\n",
       "  </tbody>\n",
       "</table>\n",
       "<p>1 rows × 21 columns</p>\n",
       "</div>"
      ],
      "text/plain": [
       "          Suburb  Rooms Type Method Seller  Distance  Two_bedroom_unit  \\\n",
       "0  moonee_ponds       3    h      s   brad       6.9               3.0   \n",
       "\n",
       "   Bathroom  Car  Landsize  ...  YearBuilt  CouncilArea Lattitude  Longtitude  \\\n",
       "0       1.0  1.0     274.0  ...      200.0       moonee  -37.7641    144.9112   \n",
       "\n",
       "             Regionname Propertycount        Region District Month  Year  \n",
       "0  western metropolitan        6232.0  metropolitan  western     7  2016  \n",
       "\n",
       "[1 rows x 21 columns]"
      ]
     },
     "execution_count": 11,
     "metadata": {},
     "output_type": "execute_result"
    }
   ],
   "source": [
    "df_new=pd.DataFrame([vv], columns=col)\n",
    "df_new"
   ]
  },
  {
   "cell_type": "code",
   "execution_count": 4,
   "metadata": {},
   "outputs": [
    {
     "name": "stdout",
     "output_type": "stream",
     "text": [
      "<class 'pandas.core.frame.DataFrame'>\n",
      "RangeIndex: 1 entries, 0 to 0\n",
      "Data columns (total 21 columns):\n",
      " #   Column            Non-Null Count  Dtype  \n",
      "---  ------            --------------  -----  \n",
      " 0   Suburb            1 non-null      object \n",
      " 1   Rooms             1 non-null      int64  \n",
      " 2   Type              1 non-null      object \n",
      " 3   Method            1 non-null      object \n",
      " 4   Seller            1 non-null      object \n",
      " 5   Distance          1 non-null      float64\n",
      " 6   Two_bedroom_unit  1 non-null      float64\n",
      " 7   Bathroom          1 non-null      float64\n",
      " 8   Car               1 non-null      float64\n",
      " 9   Landsize          1 non-null      float64\n",
      " 10  BuildingArea      1 non-null      float64\n",
      " 11  YearBuilt         1 non-null      float64\n",
      " 12  CouncilArea       1 non-null      object \n",
      " 13  Lattitude         1 non-null      float64\n",
      " 14  Longtitude        1 non-null      float64\n",
      " 15  Regionname        1 non-null      object \n",
      " 16  Propertycount     1 non-null      float64\n",
      " 17  Region            1 non-null      object \n",
      " 18  District          1 non-null      object \n",
      " 19  Month             1 non-null      int64  \n",
      " 20  Year              1 non-null      int64  \n",
      "dtypes: float64(10), int64(3), object(8)\n",
      "memory usage: 300.0+ bytes\n"
     ]
    }
   ],
   "source": [
    "\n",
    "df_new.info()"
   ]
  },
  {
   "cell_type": "code",
   "execution_count": 8,
   "metadata": {},
   "outputs": [],
   "source": [
    "df_new['Suburb']= df_new['Suburb'].astype('object')\n",
    "df_new['Rooms']= df_new['Rooms'].astype('int64')\n",
    "df_new['Type']= df_new['Type'].astype('object')\n",
    "df_new['Method']= df_new['Method'].astype('object')\n",
    "df_new['Seller']= df_new['Seller'].astype('object')\n",
    "df_new['Distance']= df_new['Distance'].astype('float')\n",
    "df_new['Two_bedroom_unit']= df_new['Two_bedroom_unit'].astype('float64')\n",
    "df_new['Bathroom']= df_new['Bathroom'].astype('float64')\n",
    "df_new['Car']= df_new['Car'].astype('float64')\n",
    "df_new['Landsize']= df_new['Landsize'].astype('float64')\n",
    "df_new['BuildingArea']= df_new['BuildingArea'].astype('float64')\n",
    "df_new['YearBuilt']= df_new['YearBuilt'].astype('float64')\n",
    "df_new['CouncilArea']= df_new['CouncilArea'].astype('object')\n",
    "df_new['Lattitude']= df_new['Lattitude'].astype('float64')\n",
    "df_new['Longtitude']= df_new['Longtitude'].astype('float64')\n",
    "df_new['Regionname']= df_new['Regionname'].astype('object')\n",
    "df_new['Propertycount']= df_new['Propertycount'].astype('float64')\n",
    "df_new['Region']= df_new['Region'].astype('object')\n",
    "df_new['District']= df_new['District'].astype('object')\n",
    "df_new['Month']= df_new['Month'].astype('int64')\n",
    "df_new['Year']= df_new['Year'].astype('int64')\n",
    "\n",
    "\n",
    "\n",
    "\n",
    "\n"
   ]
  },
  {
   "cell_type": "code",
   "execution_count": 12,
   "metadata": {},
   "outputs": [
    {
     "data": {
      "text/plain": [
       "array([[-5.97190275e-02, -6.31167428e-01, -1.91471278e-01,\n",
       "        -1.21733194e+00, -9.34492018e-01, -1.09056369e+00,\n",
       "         1.06417571e+01, -6.59829599e+00,  2.77555756e-16,\n",
       "        -8.66550069e-01, -1.06815658e-01,  2.42812342e-02,\n",
       "        -1.09762199e-12,  3.90000000e+01,  0.00000000e+00,\n",
       "         2.00000000e+00,  4.00000000e+00,  2.20000000e+01,\n",
       "         6.00000000e+00, -1.00000000e+00,  1.00000000e+00,\n",
       "         0.00000000e+00,  0.00000000e+00]])"
      ]
     },
     "execution_count": 12,
     "metadata": {},
     "output_type": "execute_result"
    }
   ],
   "source": [
    "process_new(x_new=vv)"
   ]
  }
 ],
 "metadata": {
  "kernelspec": {
   "display_name": "ml2",
   "language": "python",
   "name": "python3"
  },
  "language_info": {
   "codemirror_mode": {
    "name": "ipython",
    "version": 3
   },
   "file_extension": ".py",
   "mimetype": "text/x-python",
   "name": "python",
   "nbconvert_exporter": "python",
   "pygments_lexer": "ipython3",
   "version": "3.11.3"
  }
 },
 "nbformat": 4,
 "nbformat_minor": 2
}
